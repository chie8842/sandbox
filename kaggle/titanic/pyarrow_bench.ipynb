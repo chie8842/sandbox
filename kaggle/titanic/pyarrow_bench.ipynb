{
 "cells": [
  {
   "cell_type": "code",
   "execution_count": 4,
   "metadata": {
    "collapsed": false,
    "deletable": true,
    "editable": true
   },
   "outputs": [
    {
     "data": {
      "text/plain": [
       "<__main__.PyListConversions at 0x7f11e095fda0>"
      ]
     },
     "execution_count": 4,
     "metadata": {},
     "output_type": "execute_result"
    }
   ],
   "source": [
    "import numpy as np\n",
    "import pandas as pd\n",
    "import pyarrow as A\n",
    "\n",
    "\n",
    "class PyListConversions(object):\n",
    "    param_names = ('size',)\n",
    "    params = (1, 10 ** 5, 10 ** 6, 10 ** 7)\n",
    "\n",
    "    def setup(self, n):\n",
    "        self.data = list(range(n))\n",
    "\n",
    "    def time_from_pylist(self, n):\n",
    "        A.from_pylist(self.data)\n",
    "\n",
    "    def peakmem_from_pylist(self, n):\n",
    "        A.from_pylist(self.data)\n",
    "\n",
    "\n",
    "class PandasConversionsBase(object):\n",
    "    def setup(self, n, dtype):\n",
    "        if dtype == 'float64_nans':\n",
    "            arr = np.arange(n).astype('float64')\n",
    "            arr[arr % 10 == 0] = np.nan\n",
    "        else:\n",
    "            arr = np.arange(n).astype(dtype)\n",
    "        self.data = pd.DataFrame({'column': arr})\n",
    "\n",
    "\n",
    "class PandasConversionsToArrow(PandasConversionsBase):\n",
    "    param_names = ('size', 'dtype')\n",
    "    params = ((1, 10 ** 5, 10 ** 6, 10 ** 7), ('int64', 'float64', 'float64_nans', 'str'))\n",
    "\n",
    "    def time_from_series(self, n, dtype):\n",
    "        A.Table.from_pandas(self.data)\n",
    "\n",
    "    def peakmem_from_series(self, n, dtype):\n",
    "        A.Table.from_pandas(self.data)\n",
    "\n",
    "\n",
    "class PandasConversionsFromArrow(PandasConversionsBase):\n",
    "    param_names = ('size', 'dtype')\n",
    "    params = ((1, 10 ** 5, 10 ** 6, 10 ** 7), ('int64', 'float64', 'float64_nans', 'str'))\n",
    "\n",
    "    def setup(self, n, dtype):\n",
    "        super(PandasConversionsFromArrow, self).setup(n, dtype)\n",
    "        self.arrow_data = A.Table.from_pandas(self.data)\n",
    "\n",
    "    def time_to_series(self, n, dtype):\n",
    "        self.arrow_data.to_pandas()\n",
    "\n",
    "    def peakmem_to_series(self, n, dtype):\n",
    "        self.arrow_data.to_pandas()\n",
    "\n",
    "\n",
    "class ScalarAccess(object):\n",
    "    param_names = ('size',)\n",
    "    params = (1, 10 ** 5, 10 ** 6, 10 ** 7)\n",
    "\n",
    "    def setUp(self, n):\n",
    "        self._array = A.from_pylist(list(range(n)))\n",
    "\n",
    "    def time_as_py(self, n):\n",
    "        for i in range(n):\n",
    "            self._array[i].as_py()\n",
    "t = PyListConversions()\n",
    "type(t)\n",
    "t.setup(5)\n",
    "t.time_from_pylist(5)\n",
    "t"
   ]
  },
  {
   "cell_type": "code",
   "execution_count": 2,
   "metadata": {
    "collapsed": false,
    "deletable": true,
    "editable": true
   },
   "outputs": [
    {
     "ename": "ImportError",
     "evalue": "No module named 'pyarrow'",
     "output_type": "error",
     "traceback": [
      "\u001b[0;31m---------------------------------------------------------------------------\u001b[0m",
      "\u001b[0;31mImportError\u001b[0m                               Traceback (most recent call last)",
      "\u001b[0;32m<ipython-input-2-5215c598d43f>\u001b[0m in \u001b[0;36m<module>\u001b[0;34m()\u001b[0m\n\u001b[0;32m----> 1\u001b[0;31m \u001b[0;32mimport\u001b[0m \u001b[0mpyarrow\u001b[0m \u001b[0;32mas\u001b[0m \u001b[0mpa\u001b[0m\u001b[0;34m\u001b[0m\u001b[0m\n\u001b[0m\u001b[1;32m      2\u001b[0m \u001b[0;32mimport\u001b[0m \u001b[0mpandas\u001b[0m \u001b[0;32mas\u001b[0m \u001b[0mpd\u001b[0m\u001b[0;34m\u001b[0m\u001b[0m\n",
      "\u001b[0;31mImportError\u001b[0m: No module named 'pyarrow'"
     ]
    }
   ],
   "source": [
    "import pyarrow as pa\n",
    "import pandas as pd"
   ]
  },
  {
   "cell_type": "code",
   "execution_count": null,
   "metadata": {
    "collapsed": true,
    "deletable": true,
    "editable": true
   },
   "outputs": [],
   "source": []
  },
  {
   "cell_type": "code",
   "execution_count": null,
   "metadata": {
    "collapsed": true
   },
   "outputs": [],
   "source": []
  }
 ],
 "metadata": {
  "anaconda-cloud": {},
  "kernelspec": {
   "display_name": "Python [conda root]",
   "language": "python",
   "name": "conda-root-py"
  },
  "language_info": {
   "codemirror_mode": {
    "name": "ipython",
    "version": 3
   },
   "file_extension": ".py",
   "mimetype": "text/x-python",
   "name": "python",
   "nbconvert_exporter": "python",
   "pygments_lexer": "ipython3",
   "version": "3.5.2"
  }
 },
 "nbformat": 4,
 "nbformat_minor": 2
}
