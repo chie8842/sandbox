{
 "cells": [
  {
   "cell_type": "code",
   "execution_count": 110,
   "metadata": {
    "collapsed": false,
    "deletable": true,
    "editable": true
   },
   "outputs": [
    {
     "ename": "SyntaxError",
     "evalue": "EOL while scanning string literal (<ipython-input-110-34a094423ee2>, line 11)",
     "output_type": "error",
     "traceback": [
      "\u001b[0;36m  File \u001b[0;32m\"<ipython-input-110-34a094423ee2>\"\u001b[0;36m, line \u001b[0;32m11\u001b[0m\n\u001b[0;31m    ')})\u001b[0m\n\u001b[0m        ^\u001b[0m\n\u001b[0;31mSyntaxError\u001b[0m\u001b[0;31m:\u001b[0m EOL while scanning string literal\n"
     ]
    }
   ],
   "source": [
    "import numpy as np\n",
    "import matplotlib.pyplot as plt\n",
    "\n",
    "dataDir = \"/mnt/share/titanic\"\n",
    "data = np.loadtxt(dataDir + \"/train.csv\",delimiter=\",\", \n",
    "                  skiprows=1, \n",
    "                  dtype={'names': ('PassengerId','Survived','Pclass', \n",
    "                                   'Name','Sex','Age','SibSp','Parch',\n",
    "                                   'Ticket','Fare','Cabin','Embarked'),\n",
    "                         'formats':()\n",
    "')})\n",
    "\n",
    "x = data[0]\n",
    "y = data[1]\n",
    "plt.plot(x,y)"
   ]
  },
  {
   "cell_type": "code",
   "execution_count": 2,
   "metadata": {
    "collapsed": false,
    "deletable": true,
    "editable": true
   },
   "outputs": [
    {
     "data": {
      "text/plain": [
       "PassengerId      int64\n",
       "Survived         int64\n",
       "Pclass           int64\n",
       "Name            object\n",
       "Sex             object\n",
       "Age            float64\n",
       "SibSp            int64\n",
       "Parch            int64\n",
       "Ticket          object\n",
       "Fare           float64\n",
       "Cabin           object\n",
       "Embarked        object\n",
       "dtype: object"
      ]
     },
     "execution_count": 2,
     "metadata": {},
     "output_type": "execute_result"
    }
   ],
   "source": [
    "import pandas as pd\n",
    "import matplotlib.pyplot as plt\n",
    "\n",
    "\n",
    "data_dir = \"/mnt/share/titanic\"\n",
    "org_train = pd.read_csv(data_dir + \"/train.csv\")\n",
    "org_train.dtypes"
   ]
  },
  {
   "cell_type": "code",
   "execution_count": 91,
   "metadata": {
    "collapsed": false
   },
   "outputs": [
    {
     "data": {
      "text/plain": [
       "PassengerId      int64\n",
       "Pclass           int64\n",
       "Name            object\n",
       "Sex             object\n",
       "Age            float64\n",
       "SibSp            int64\n",
       "Parch            int64\n",
       "Ticket          object\n",
       "Fare           float64\n",
       "Cabin           object\n",
       "Embarked        object\n",
       "dtype: object"
      ]
     },
     "execution_count": 91,
     "metadata": {},
     "output_type": "execute_result"
    }
   ],
   "source": [
    "org_test = pd.read_csv(data_dir + \"/test.csv\")\n",
    "org_test.dtypes\n",
    "org_test.count() #418"
   ]
  },
  {
   "cell_type": "code",
   "execution_count": 121,
   "metadata": {
    "collapsed": false
   },
   "outputs": [
    {
     "data": {
      "text/plain": [
       "PassengerId    417\n",
       "Pclass         417\n",
       "Name           417\n",
       "Sex            417\n",
       "Age            417\n",
       "SibSp          417\n",
       "Parch          417\n",
       "Ticket         417\n",
       "Fare           417\n",
       "Cabin           91\n",
       "Embarked       417\n",
       "dtype: int64"
      ]
     },
     "execution_count": 121,
     "metadata": {},
     "output_type": "execute_result"
    }
   ],
   "source": [
    "org_test.dropna(subset=['Fare']).count()"
   ]
  },
  {
   "cell_type": "code",
   "execution_count": 77,
   "metadata": {
    "collapsed": false,
    "deletable": true,
    "editable": true
   },
   "outputs": [
    {
     "data": {
      "text/plain": [
       "PassengerId                    180\n",
       "Survived                         0\n",
       "Pclass                           3\n",
       "Name           Leonard, Mr. Lionel\n",
       "Sex                           male\n",
       "Age                             36\n",
       "SibSp                            0\n",
       "Parch                            0\n",
       "Ticket                        LINE\n",
       "Fare                             0\n",
       "Cabin                          NaN\n",
       "Embarked                         S\n",
       "Name: 179, dtype: object"
      ]
     },
     "execution_count": 77,
     "metadata": {},
     "output_type": "execute_result"
    }
   ],
   "source": [
    "from sklearn import preprocessing\n",
    "\n",
    "#le = preprocessing.LabelEncoder()\n",
    "#org_train['Name'].apply(le.fit_transform)\n",
    "#print(type(org_train))\n",
    "#print(type(org_train['Ticket']))\n",
    "org_train[\"Age\"].fillna(org_train.Age.mean(), inplace=True)   \n",
    "train = org_train.assign(\n",
    "    TicketNum=org_train['Ticket'] \\\n",
    "    .apply(lambda x: x.split(\" \")[-1])) \\\n",
    "    .assign(SexInt=org_train['Sex'].apply(lambda x: 0 if x == \"male\" else 1))\\\n",
    "    .loc[:,['PassengerId','Survived','Pclass','SexInt','Age','SibSp','Parch','TicketNum','Fare','Cabin','Embarked']]\n",
    "le_cabin = preprocessing.LabelEncoder()\n",
    "le_embarked = preprocessing.LabelEncoder()\n",
    "#train.Cabin = le_cabin.fit_transform(train.Cabin)\n",
    "#train.Embarked = le_embarked.fit_transform(train.Embarked)\n",
    "trainA = train.assign(TicketInt=train['TicketNum'].apply(lambda x: 0 if x.isdigit() else x))\n",
    "trainA.TicketInt.drop_duplicates()\n",
    "org_train.iloc[179,:]\n",
    "\n",
    "#org_train.count()  ## 891\n",
    "#org_train.dropna(subset=['Age']).count() ## 791\n",
    "#org_train.dropna(subset=['Age']).mean() ## Age mean = 29.699118\n",
    "#org_train.mean() ## Age mean 29.699118\n",
    "#org_train['Ticket'](lambda x: str(x).split(\" \").length > 1 and str(x).split(\" \")(1) or x )"
   ]
  },
  {
   "cell_type": "code",
   "execution_count": null,
   "metadata": {
    "collapsed": true
   },
   "outputs": [],
   "source": []
  },
  {
   "cell_type": "code",
   "execution_count": 6,
   "metadata": {
    "collapsed": false,
    "scrolled": true
   },
   "outputs": [
    {
     "data": {
      "text/plain": [
       "0.20000000000000001"
      ]
     },
     "execution_count": 6,
     "metadata": {},
     "output_type": "execute_result"
    }
   ],
   "source": [
    "import pandas as pd\n",
    "from sklearn import preprocessing\n",
    "from sklearn.linear_model import LogisticRegression\n",
    "import csv as csv\n",
    "from collections import OrderedDict\n",
    "from sklearn.metrics import mean_squared_error\n",
    "\n",
    "\n",
    "\n",
    "# データを読み込む\n",
    "data_dir = \"/Users/chiehayashida/work/kaggle/titanic_split\"\n",
    "org_train = pd.read_csv(data_dir + \"/train_split.csv\")\n",
    "org_test = pd.read_csv(data_dir + \"/test_split.csv\")\n",
    "\n",
    "# 訓練データの加工\n",
    "org_train[\"Age\"].fillna(org_train.Age.mean(), inplace=True)   \n",
    "train = org_train.assign(\n",
    "    TicketNum=org_train['Ticket'] \\\n",
    "    .apply(lambda x: x.split(\" \")[-1])) \\\n",
    "    .assign(SexInt=org_train['Sex'].apply(lambda x: 0 if x == \"male\" else 1))\\\n",
    "    .loc[:,['PassengerId','Survived','SexInt','Age','SibSp','Parch','Fare']]\n",
    "train_tgt = train.values[:,1]\n",
    "train_features = train.values[:,2::]\n",
    "\n",
    "# 評価データの加工\n",
    "org_test[\"Age\"].fillna(org_test.Age.mean(), inplace=True)\n",
    "org_test[\"Fare\"].fillna(org_test.Fare.mean(), inplace=True)\n",
    "test = org_test.assign(\n",
    "    TicketNum=org_test['Ticket'] \\\n",
    "    .apply(lambda x: x.split(\" \")[-1])) \\\n",
    "    .assign(SexInt=org_test['Sex'].apply(lambda x: 0 if x == \"male\" else 1))\\\n",
    "    .loc[:,['PassengerId','SexInt','Age','SibSp','Parch','Fare']]\n",
    "\n",
    "test_idx = test.values[:,0].astype(int)\n",
    "test_features = test.values[:,1::]\n",
    "\n",
    "# ロジスティック回帰による予測\n",
    "model = LogisticRegression(solver='lbfgs')\n",
    "output = model.fit(train_features, train_tgt).predict(test_features)\n",
    "output_with_idx = zip(test_idx, output.astype(int))\n",
    "\n",
    "\n",
    "\n",
    "## ファイル出力\n",
    "output_file = open(data_dir + \"/titanic_submit.csv\",\"w\")\n",
    "f = csv.writer(output_file)\n",
    "f.writerow(['PassengerId','Survived'])\n",
    "f.writerows(output_with_idx)\n",
    "output_file.close()\n",
    "\n",
    "test = pd.read_csv(data_dir + \"/titanic_submit.csv\")\n",
    "\n",
    "answer = pd.read_csv(data_dir + \"/answer_split.csv\")\n",
    "mean_squared_error(answer.Survived, test.Survived)\n"
   ]
  },
  {
   "cell_type": "code",
   "execution_count": 163,
   "metadata": {
    "collapsed": false
   },
   "outputs": [
    {
     "data": {
      "text/plain": [
       "[<matplotlib.lines.Line2D at 0x7ff6c34d51d0>]"
      ]
     },
     "execution_count": 163,
     "metadata": {},
     "output_type": "execute_result"
    },
    {
     "data": {
      "image/png": "[encoded data removed]",
      "text/plain": [
       "<matplotlib.figure.Figure at 0x7ff6f6c6bc88>"
      ]
     },
     "metadata": {},
     "output_type": "display_data"
    }
   ],
   "source": [
    "import matplotlib.pyplot as plt\n",
    "%matplotlib inline\n",
    "\n",
    "x = test_idx\n",
    "y = output\n",
    "plt.plot(x,y)"
   ]
  },
  {
   "cell_type": "code",
   "execution_count": 30,
   "metadata": {
    "collapsed": false
   },
   "outputs": [
    {
     "data": {
      "text/plain": [
       "array([[0, 0, 22.0, ..., 7.25, nan, 'S'],\n",
       "       [1, 1, 38.0, ..., 71.2833, 'C85', 'C'],\n",
       "       [1, 1, 26.0, ..., 7.925, nan, 'S'],\n",
       "       ..., \n",
       "       [0, 1, 29.69911764705882, ..., 23.45, nan, 'S'],\n",
       "       [1, 0, 26.0, ..., 30.0, 'C148', 'C'],\n",
       "       [0, 0, 32.0, ..., 7.75, nan, 'Q']], dtype=object)"
      ]
     },
     "execution_count": 30,
     "metadata": {},
     "output_type": "execute_result"
    }
   ],
   "source": [
    "train.values[0::,1::]"
   ]
  },
  {
   "cell_type": "code",
   "execution_count": 34,
   "metadata": {
    "collapsed": false
   },
   "outputs": [
    {
     "ename": "NameError",
     "evalue": "name 'LabelEncoder' is not defined",
     "output_type": "error",
     "traceback": [
      "\u001b[0;31m------------------------------------------------------------\u001b[0m",
      "\u001b[0;31mNameError\u001b[0m                  Traceback (most recent call last)",
      "\u001b[0;32m<ipython-input-34-8c015cd78b52>\u001b[0m in \u001b[0;36m<module>\u001b[0;34m()\u001b[0m\n\u001b[1;32m      1\u001b[0m \u001b[0;32mfrom\u001b[0m \u001b[0mcollections\u001b[0m \u001b[0;32mimport\u001b[0m \u001b[0mdefaultdict\u001b[0m\u001b[0;34m\u001b[0m\u001b[0m\n\u001b[0;32m----> 2\u001b[0;31m \u001b[0md\u001b[0m \u001b[0;34m=\u001b[0m \u001b[0mdefaultdict\u001b[0m\u001b[0;34m(\u001b[0m\u001b[0mLabelEncoder\u001b[0m\u001b[0;34m)\u001b[0m\u001b[0;34m\u001b[0m\u001b[0m\n\u001b[0m\u001b[1;32m      3\u001b[0m \u001b[0mfit\u001b[0m \u001b[0;34m=\u001b[0m \u001b[0mtrain\u001b[0m\u001b[0;34m.\u001b[0m\u001b[0mapply\u001b[0m\u001b[0;34m(\u001b[0m\u001b[0;32mlambda\u001b[0m \u001b[0mx\u001b[0m\u001b[0;34m:\u001b[0m \u001b[0md\u001b[0m\u001b[0;34m[\u001b[0m\u001b[0mx\u001b[0m\u001b[0;34m.\u001b[0m\u001b[0mname\u001b[0m\u001b[0;34m]\u001b[0m\u001b[0;34m.\u001b[0m\u001b[0mfit_transform\u001b[0m\u001b[0;34m(\u001b[0m\u001b[0mx\u001b[0m\u001b[0;34m)\u001b[0m\u001b[0;34m)\u001b[0m\u001b[0;34m\u001b[0m\u001b[0m\n",
      "\u001b[0;31mNameError\u001b[0m: name 'LabelEncoder' is not defined"
     ]
    }
   ],
   "source": [
    "from collections import defaultdict\n",
    "d = defaultdict(LabelEncoder)\n",
    "fit = train.apply(lambda x: d[x.name].fit_transform(x))"
   ]
  },
  {
   "cell_type": "code",
   "execution_count": 120,
   "metadata": {
    "collapsed": false,
    "deletable": true,
    "editable": true
   },
   "outputs": [
    {
     "data": {
      "text/plain": [
       "0              NaN\n",
       "1              C85\n",
       "3             C123\n",
       "6              E46\n",
       "10              G6\n",
       "11            C103\n",
       "21             D56\n",
       "23              A6\n",
       "27     C23 C25 C27\n",
       "31             B78\n",
       "52             D33\n",
       "54             B30\n",
       "55             C52\n",
       "61             B28\n",
       "62             C83\n",
       "66             F33\n",
       "75           F G73\n",
       "92             E31\n",
       "96              A5\n",
       "97         D10 D12\n",
       "102            D26\n",
       "110           C110\n",
       "118        B58 B60\n",
       "123           E101\n",
       "128          F E69\n",
       "136            D47\n",
       "139            B86\n",
       "148             F2\n",
       "151             C2\n",
       "166            E33\n",
       "          ...     \n",
       "690            B20\n",
       "699          F G63\n",
       "700        C62 C64\n",
       "701            E24\n",
       "710            C90\n",
       "716            C45\n",
       "724             E8\n",
       "737           B101\n",
       "740            D45\n",
       "741            C46\n",
       "748            D30\n",
       "751           E121\n",
       "765            D11\n",
       "772            E77\n",
       "776            F38\n",
       "779             B3\n",
       "782             D6\n",
       "789        B82 B84\n",
       "796            D17\n",
       "806            A36\n",
       "815           B102\n",
       "820            B69\n",
       "835            E49\n",
       "839            C47\n",
       "853            D28\n",
       "857            E17\n",
       "867            A24\n",
       "879            C50\n",
       "887            B42\n",
       "889           C148\n",
       "Name: Cabin, dtype: object"
      ]
     },
     "execution_count": 120,
     "metadata": {},
     "output_type": "execute_result"
    }
   ],
   "source": [
    "org_train.Cabin.drop_duplicates()"
   ]
  },
  {
   "cell_type": "code",
   "execution_count": null,
   "metadata": {
    "collapsed": true
   },
   "outputs": [],
   "source": []
  },
  {
   "cell_type": "code",
   "execution_count": 108,
   "metadata": {
    "collapsed": false,
    "deletable": true,
    "editable": true
   },
   "outputs": [
    {
     "data": {
      "text/plain": [
       "pandas.core.series.Series"
      ]
     },
     "execution_count": 108,
     "metadata": {},
     "output_type": "execute_result"
    }
   ],
   "source": [
    "s = pd.Series([1, 2, 3], index=['a', 'b', 'c'])\n",
    "s.apply(type)\n",
    "type(s.apply(lambda x: (x, x * 2)))\n",
    "# type(s.apply(lambda x: pd.Series([x, x * 2], index=['col1', 'col2'])))"
   ]
  },
  {
   "cell_type": "code",
   "execution_count": null,
   "metadata": {
    "collapsed": true,
    "deletable": true,
    "editable": true
   },
   "outputs": [],
   "source": []
  }
 ],
 "metadata": {
  "anaconda-cloud": {},
  "kernelspec": {
   "display_name": "Python [default]",
   "language": "python",
   "name": "python3"
  },
  "language_info": {
   "codemirror_mode": {
    "name": "ipython",
    "version": 3
   },
   "file_extension": ".py",
   "mimetype": "text/x-python",
   "name": "python",
   "nbconvert_exporter": "python",
   "pygments_lexer": "ipython3",
   "version": "3.5.2"
  }
 },
 "nbformat": 4,
 "nbformat_minor": 2
}
